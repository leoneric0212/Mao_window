{
 "cells": [
  {
   "cell_type": "code",
   "execution_count": null,
   "metadata": {},
   "outputs": [],
   "source": []
  },
  {
   "cell_type": "markdown",
   "metadata": {},
   "source": [
    "因為最外圍是list，所以要用root\n",
    "搜尋youbike api\n",
    "\thttps://tcgbusfs.blob.core.windows.net/dotapp/youbike/v2/youbike_immediate.json"
   ]
  }
 ],
 "metadata": {
  "language_info": {
   "name": "python"
  }
 },
 "nbformat": 4,
 "nbformat_minor": 2
}
