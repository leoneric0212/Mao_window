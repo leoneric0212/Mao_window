{
 "cells": [
  {
   "cell_type": "code",
   "execution_count": null,
   "metadata": {},
   "outputs": [],
   "source": [
    "from dash import Dash,html,dcc,Input,Output,callback\n",
    "\n",
    "app=Dash(__name__)\n",
    "\n",
    "app.layout=html.Div(\n",
    "    [html.H6(\"改變文字欄位的內容\"),\n",
    "     html.Div(\n",
    "         [\n",
    "             \"input\",\n",
    "             dcc.Input(id='my-input',value=\"initial input\",type=\"text\")\n",
    "         ]\n",
    "     ),\n",
    "     html.Br(),    #Br為換行\n",
    "     html.Div(id=\"my-output\")\n",
    "     \n",
    "     ]\n",
    ")\n",
    "\n",
    "@callback(\n",
    "    Output(component_id=\"my-output\",component_property='children'),\n",
    "    Input(component_id=\"my-input\",component_property='value')\n",
    ")\n",
    "def update_output_div(input_value:str) ->str:\n",
    "    return f\"Output:{input_value}\"\n",
    "\n",
    "app.run(debug=True)"
   ]
  },
  {
   "cell_type": "markdown",
   "metadata": {},
   "source": [
    "### 二"
   ]
  },
  {
   "cell_type": "code",
   "execution_count": null,
   "metadata": {},
   "outputs": [],
   "source": [
    "from dash import Dash,html,dcc,Input,Output,callback\n",
    "import pandas as pd\n",
    "import plotly.express as px\n",
    "\n",
    "df=pd.read_csv('https://raw.githubusercontent.com/plotly/datasets/master/gapminderDataFiveYear.csv')\n",
    "app=Dash(__name__)"
   ]
  },
  {
   "cell_type": "code",
   "execution_count": null,
   "metadata": {},
   "outputs": [],
   "source": [
    "display(df)\n",
    "int(df['year'].min())\n",
    "int(df['year'].max())\n",
    "{str(year):str(year) for year in df['year'].unique()}\n",
    "df[df.year==2002]"
   ]
  },
  {
   "cell_type": "markdown",
   "metadata": {},
   "source": [
    "### 三"
   ]
  },
  {
   "cell_type": "code",
   "execution_count": 1,
   "metadata": {},
   "outputs": [
    {
     "data": {
      "text/html": [
       "\n",
       "        <iframe\n",
       "            width=\"100%\"\n",
       "            height=\"650\"\n",
       "            src=\"http://127.0.0.1:8050/\"\n",
       "            frameborder=\"0\"\n",
       "            allowfullscreen\n",
       "            \n",
       "        ></iframe>\n",
       "        "
      ],
      "text/plain": [
       "<IPython.lib.display.IFrame at 0x21be1f30410>"
      ]
     },
     "metadata": {},
     "output_type": "display_data"
    }
   ],
   "source": [
    "from dash import Dash,html,dcc,Input,Output,callback\n",
    "import pandas as pd\n",
    "import plotly.express as px\n",
    "\n",
    "df=pd.read_csv('https://raw.githubusercontent.com/plotly/datasets/master/gapminderDataFiveYear.csv')\n",
    "app=Dash(__name__)\n",
    "app.layout=html.Div(\n",
    "    [\n",
    "        dcc.Graph(id=\"graph_with_slider\"),\n",
    "        dcc.Slider(\n",
    "            \n",
    "            min=df['year'].min(),\n",
    "            max=df['year'].max(),\n",
    "            step=None,\n",
    "            value=df['year'].min(),\n",
    "            marks={str(year):str(year) for year in df['year'].unique()},\n",
    "            id='year_slider'\n",
    "        )\n",
    "    ]\n",
    ")\n",
    "\n",
    "@callback(\n",
    "        Output(\"graph_with_slider\",\"figure\"),\n",
    "        Input(\"year_slider\",\"value\")\n",
    ")\n",
    "def update_figure(selected_year:int):\n",
    "    filtered_df=df[df.year==selected_year]\n",
    "    fig=px.scatter(\n",
    "        data_frame=filtered_df,\n",
    "        x='gdpPercap',\n",
    "        y='lifeExp',\n",
    "        size='pop',  #某個設定\n",
    "        color='continent',  #顏色分類方法\n",
    "        hover_name='country',\n",
    "        log_x=True,\n",
    "        size_max=55\n",
    "    )\n",
    "    fig.update_layout(transition_duration=5000)\n",
    "    return fig\n",
    "\n",
    "\n",
    "app.run(debug=True)"
   ]
  }
 ],
 "metadata": {
  "kernelspec": {
   "display_name": "venv2",
   "language": "python",
   "name": "python3"
  },
  "language_info": {
   "codemirror_mode": {
    "name": "ipython",
    "version": 3
   },
   "file_extension": ".py",
   "mimetype": "text/x-python",
   "name": "python",
   "nbconvert_exporter": "python",
   "pygments_lexer": "ipython3",
   "version": "3.11.9"
  }
 },
 "nbformat": 4,
 "nbformat_minor": 2
}
