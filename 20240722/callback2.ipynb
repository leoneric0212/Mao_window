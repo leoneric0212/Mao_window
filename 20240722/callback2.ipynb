{
 "cells": [
  {
   "cell_type": "code",
   "execution_count": 1,
   "metadata": {},
   "outputs": [],
   "source": [
    "from dash import Dash, html, dcc, Input,Output,callback\n",
    "import pandas as pd\n",
    "app=Dash(__name__)\n",
    "\n",
    "df = pd.read_csv('https://plotly.github.io/datasets/country_indicators.csv')"
   ]
  },
  {
   "cell_type": "code",
   "execution_count": 2,
   "metadata": {},
   "outputs": [
    {
     "data": {
      "text/plain": [
       "11      48.008603\n",
       "25      63.271718\n",
       "39      68.007793\n",
       "53      46.426096\n",
       "67      49.422961\n",
       "          ...    \n",
       "3637    64.462561\n",
       "3651          NaN\n",
       "3665    34.739561\n",
       "3679    45.853659\n",
       "3693    52.277902\n",
       "Name: Value, Length: 264, dtype: float64"
      ]
     },
     "execution_count": 2,
     "metadata": {},
     "output_type": "execute_result"
    }
   ],
   "source": [
    "# display(df)\n",
    "dff=df[df['Year']==1962]\n",
    "dff[dff['Indicator Name'] == 'Life expectancy at birth, total (years)']['Value']"
   ]
  },
  {
   "cell_type": "code",
   "execution_count": 3,
   "metadata": {},
   "outputs": [
    {
     "data": {
      "text/html": [
       "\n",
       "        <iframe\n",
       "            width=\"100%\"\n",
       "            height=\"650\"\n",
       "            src=\"http://127.0.0.1:8050/\"\n",
       "            frameborder=\"0\"\n",
       "            allowfullscreen\n",
       "            \n",
       "        ></iframe>\n",
       "        "
      ],
      "text/plain": [
       "<IPython.lib.display.IFrame at 0x2cdb332e450>"
      ]
     },
     "metadata": {},
     "output_type": "display_data"
    }
   ],
   "source": [
    "import plotly.express as px\n",
    "app.layout=html.Div([\n",
    "    html.Div([\n",
    "        html.Div([\n",
    "            dcc.Dropdown(\n",
    "                df['Indicator Name'].unique(),\n",
    "                'Fertility rate, total (births per woman)',\n",
    "                id='xaxis-column'\n",
    "            ),\n",
    "            dcc.RadioItems(\n",
    "                ['Linear','Log'],\n",
    "                'Linear',\n",
    "                id='xaxis-type',\n",
    "                inline=True\n",
    "            )\n",
    "        ],style={\"width\":\"48%\",\"display\":\"inline-block\"}),\n",
    "\n",
    "        html.Div([\n",
    "            dcc.Dropdown(\n",
    "                df['Indicator Name'].unique(),\n",
    "                'Fertility rate, total (births per woman)',\n",
    "                id='yaxis-column'\n",
    "            ),\n",
    "            dcc.RadioItems(\n",
    "                ['Linear','Log'],\n",
    "                'Linear',\n",
    "                id='yaxis-type',\n",
    "                inline=True\n",
    "            )\n",
    "            \n",
    "        ],style={\"width\":\"48%\",\"float\":\"right\",\"display\":\"inline-block\"})\n",
    "    ]),\n",
    "    dcc.Graph(id='indicator-graphic'),  #output\n",
    "    dcc.Slider(\n",
    "        min=df['Year'].min(),\n",
    "        max=df['Year'].max(),\n",
    "        step=None,\n",
    "        id='year-slider',\n",
    "        value=df['Year'].max(),\n",
    "        marks={str(year):str(year) for year in df['Year'].unique()} #將key與value轉為字串\n",
    "    )\n",
    "])\n",
    "\n",
    "@callback(\n",
    "    Output('indicator-graphic','figure'),\n",
    "    Input('xaxis-column','value'),\n",
    "    Input('yaxis-column','value'),\n",
    "    Input('xaxis-type','value'),\n",
    "    Input('yaxis-type','value'),\n",
    "    Input('year-slider','value')\n",
    ")\n",
    "def update_graph(xaxis_column_name,\n",
    "                 yaxis_column_name,\n",
    "                 xaxis_type,\n",
    "                 yaxis_type,\n",
    "                 year_value):\n",
    "    dff = df[df['Year'] == year_value]\n",
    "    xValue = dff[dff['Indicator Name'] == xaxis_column_name]['Value']\n",
    "    yValue = dff[dff['Indicator Name'] == yaxis_column_name]['Value']\n",
    "    hoverValue=dff[dff['Indicator Name'] == yaxis_column_name]['Country Name']\n",
    "    fig=px.scatter(x=xValue,\n",
    "                   y=yValue,\n",
    "                   hover_name = hoverValue)\n",
    "    fig.update_layout(margin={'l':40,'b':40,'t':40,'r':40},hovermode='closest')\n",
    "    fig.update_xaxes(title=xaxis_column_name,type='linear' if xaxis_type == 'Linear' else 'log')\n",
    "    fig.update_yaxes(title=yaxis_column_name,type='linear' if yaxis_type == 'Linear' else 'log')\n",
    "\n",
    "\n",
    "    return fig\n",
    "\n",
    "if __name__=='__main__':\n",
    "    app.run(debug=True)\n"
   ]
  }
 ],
 "metadata": {
  "kernelspec": {
   "display_name": "venv2",
   "language": "python",
   "name": "python3"
  },
  "language_info": {
   "codemirror_mode": {
    "name": "ipython",
    "version": 3
   },
   "file_extension": ".py",
   "mimetype": "text/x-python",
   "name": "python",
   "nbconvert_exporter": "python",
   "pygments_lexer": "ipython3",
   "version": "3.11.9"
  }
 },
 "nbformat": 4,
 "nbformat_minor": 2
}
