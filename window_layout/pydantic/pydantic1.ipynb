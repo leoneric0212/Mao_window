{
 "cells": [
  {
   "cell_type": "code",
   "execution_count": 30,
   "metadata": {},
   "outputs": [],
   "source": [
    "from pydantic import BaseModel\n",
    "\n",
    "class InventoryItem(BaseModel):\n",
    "    \"\"\"Class for keeping track of an item in inventory\"\"\"\n",
    "    name:str\n",
    "    unit_price:float        #就算輸入為str，也會轉化為float\n",
    "    quantity_in_hand:int=0\n"
   ]
  },
  {
   "cell_type": "code",
   "execution_count": null,
   "metadata": {},
   "outputs": [],
   "source": [
    "#unit_price的字串，自動轉換為float\n",
    "Item1=InventoryItem(name=\"綠茶\",unit_price='150.5')\n",
    "print(Item1)\n",
    "print(Item1.name)\n",
    "print(Item1.unit_price)\n",
    "print(Item1.quantity_in_hand)\n",
    "Item1.name,Item1.unit_price,Item1.quantity_in_hand"
   ]
  },
  {
   "cell_type": "code",
   "execution_count": 13,
   "metadata": {},
   "outputs": [
    {
     "name": "stdout",
     "output_type": "stream",
     "text": [
      "name='綠茶' unit_price=150.5 quantity_in_hand=10\n"
     ]
    }
   ],
   "source": [
    "#quantity_in_hand的字串，自動轉換為int失敗，需要手動轉換，raise ValidationError\n",
    "from pydantic import ValidationError\n",
    "try:\n",
    "    Item1=InventoryItem(name=\"綠茶\",unit_price='150.5',quantity_in_hand='10.5')\n",
    "    print(Item1)\n",
    "except ValidationError as e:\n",
    "    print(e)\n"
   ]
  },
  {
   "cell_type": "code",
   "execution_count": null,
   "metadata": {},
   "outputs": [],
   "source": [
    "#使用class method建立實體\n",
    "#model_validate(dict)\n",
    "#model_validate_json(json的字串)\n"
   ]
  },
  {
   "cell_type": "code",
   "execution_count": 18,
   "metadata": {},
   "outputs": [
    {
     "name": "stdout",
     "output_type": "stream",
     "text": [
      "{'name': '手機殼', 'unit_price': 150.5, 'quantity_on_hand': 15}\n",
      "name='手機殼' unit_price=150.5 quantity_in_hand=0\n"
     ]
    }
   ],
   "source": [
    "#將dict轉化為資料\n",
    "dataa:dict={\n",
    "    'name':\"手機殼\",\n",
    "    'unit_price':150.5,\n",
    "    'quantity_on_hand':15\n",
    "}\n",
    "print(dataa)\n",
    "try:\n",
    "    item2=InventoryItem.model_validate(dataa)\n",
    "except ValidationError as e:\n",
    "    print(e)\n",
    "else:\n",
    "    print(item2)"
   ]
  },
  {
   "cell_type": "code",
   "execution_count": 42,
   "metadata": {},
   "outputs": [
    {
     "name": "stdout",
     "output_type": "stream",
     "text": [
      "\n",
      "{   \n",
      "    \"name\":\"手機殼\",\n",
      "    \"unit_price\":\"150.5\",\n",
      "    \"quantity_on_hand\":\"15\"\n",
      "}\n",
      "\n",
      "name='手機殼' unit_price=150.5 quantity_in_hand=0\n"
     ]
    }
   ],
   "source": [
    "class InventoryItem(BaseModel):\n",
    "    \"\"\"Class for keeping track of an item in inventory\"\"\"\n",
    "    name:str\n",
    "    unit_price:float\n",
    "    quantity_in_hand:int=0\n",
    "\n",
    "data_json:str='''\n",
    "{   \n",
    "    \"name\":\"手機殼\",\n",
    "    \"unit_price\":\"150.5\",\n",
    "    \"quantity_on_hand\":\"15\"\n",
    "}\n",
    "'''\n",
    "item3=InventoryItem.model_validate_json(data_json)\n",
    "\n",
    "print(data_json)\n",
    "print(item3)\n",
    "# 不明的錯誤!!!"
   ]
  },
  {
   "cell_type": "code",
   "execution_count": 28,
   "metadata": {},
   "outputs": [
    {
     "name": "stdout",
     "output_type": "stream",
     "text": [
      "name='手機套' unit_price=150.5 quantity_on_hand=15\n"
     ]
    }
   ],
   "source": [
    "class InventoryItem(BaseModel):\n",
    "    \"\"\"Class for keeping track of an item in inventory.\"\"\"\n",
    "    name: str\n",
    "    unit_price: float\n",
    "    quantity_on_hand: int = 0\n",
    "\n",
    "data_json:str = '''\n",
    "{\n",
    "    \"name\":\"手機套\",\n",
    "    \"unit_price\":\"150.5\",\n",
    "    \"quantity_on_hand\":\"15\"\n",
    "}\n",
    "'''\n",
    "\n",
    "item3 = InventoryItem.model_validate_json(data_json)\n",
    "\n",
    "\n",
    "print(item3)"
   ]
  },
  {
   "cell_type": "code",
   "execution_count": 35,
   "metadata": {},
   "outputs": [
    {
     "name": "stdout",
     "output_type": "stream",
     "text": [
      "name='手機套' unit_price=150.5 quantity_on_hand=0\n"
     ]
    }
   ],
   "source": [
    "class InventoryItem(BaseModel):\n",
    "    \"\"\"Class for keeping track of an item in inventory.\"\"\"\n",
    "    name: str\n",
    "    unit_price: float\n",
    "    quantity_on_hand: int = 0\n",
    "\n",
    "data_json:str = '''\n",
    "{\n",
    "    \"name\":\"手機套\",\n",
    "    \"unit_price\":\"150.5\"\n",
    "}\n",
    "'''\n",
    "item4 = InventoryItem.model_validate_json(data_json)\n",
    "print(item4)"
   ]
  },
  {
   "cell_type": "code",
   "execution_count": 34,
   "metadata": {},
   "outputs": [
    {
     "name": "stdout",
     "output_type": "stream",
     "text": [
      "name='手機套' unit_price=150.5 quantity_on_hand=None\n"
     ]
    }
   ],
   "source": [
    "class InventoryItem(BaseModel):\n",
    "    \"\"\"Class for keeping track of an item in inventory.\"\"\"\n",
    "    name: str\n",
    "    unit_price: float\n",
    "    quantity_on_hand: int |None=None #optional(資料可有可無)\n",
    "\n",
    "data_json:str='''\n",
    "{\n",
    "    \"name\":\"手機套\",\n",
    "    \"unit_price\":\"150.5\"\n",
    "}'''\n",
    "item5=InventoryItem.model_validate_json(data_json)\n",
    "print(item5)"
   ]
  }
 ],
 "metadata": {
  "kernelspec": {
   "display_name": "venv1",
   "language": "python",
   "name": "python3"
  },
  "language_info": {
   "codemirror_mode": {
    "name": "ipython",
    "version": 3
   },
   "file_extension": ".py",
   "mimetype": "text/x-python",
   "name": "python",
   "nbconvert_exporter": "python",
   "pygments_lexer": "ipython3",
   "version": "3.10.14"
  }
 },
 "nbformat": 4,
 "nbformat_minor": 2
}
