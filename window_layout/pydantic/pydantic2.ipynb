{
 "cells": [
  {
   "cell_type": "code",
   "execution_count": 9,
   "metadata": {},
   "outputs": [
    {
     "name": "stdout",
     "output_type": "stream",
     "text": [
      "id=100 first_name='John' last_name='Smith' age=42\n"
     ]
    }
   ],
   "source": [
    "#用Field裡面的alias功能更改kry值\n",
    "from pydantic import BaseModel,Field  #幾乎每個實體都有id欄位\n",
    "data='''{\n",
    "    \"id\":100,               \n",
    "    \"First Name\":\"John\",\n",
    "    \"LASTNAME\":\"Smith\",\n",
    "    \"age in years\":42\n",
    "}\n",
    "'''\n",
    "class Person(BaseModel):\n",
    "    id:int=Field(alias=\"id\")\n",
    "    first_name:str=Field(alias=\"First Name\")\n",
    "    last_name:str=Field(alias=\"LASTNAME\")\n",
    "    age:int|None =Field(alias=\"age in years\",default=None)\n",
    "\n",
    "p1=Person.model_validate_json(data)\n",
    "print(p1)"
   ]
  },
  {
   "cell_type": "code",
   "execution_count": 20,
   "metadata": {},
   "outputs": [
    {
     "name": "stdout",
     "output_type": "stream",
     "text": [
      "first_name='Arthur' last_name='Clarke' born=born(place=place(country='Lunar Colony', city='Central City'), date='2001-01-01')\n",
      "Lunar Colony\n",
      "Central City\n"
     ]
    }
   ],
   "source": [
    "data:dict = {\n",
    "    \"FirstName\": \"Arthur\",\n",
    "    \"LastName\": \"Clarke\",\n",
    "    \"born\":{\n",
    "        \"place\":{\n",
    "            \"country\":\"Lunar Colony\",\n",
    "            \"city\": \"Central City\"\n",
    "        },\n",
    "        \"date\":\"2001-01-01\"\n",
    "    }\n",
    "}\n",
    "\n",
    "\n",
    "class place(BaseModel):\n",
    "    country:str\n",
    "    city:str\n",
    "\n",
    "class born(BaseModel):\n",
    "    place:place\n",
    "    date:str\n",
    "class Person(BaseModel):\n",
    "    first_name:str=Field(alias=\"FirstName\")\n",
    "    last_name:str=Field(alias=\"LastName\")\n",
    "    born:born\n",
    "p2=Person.model_validate(data)\n",
    "print(p2)\n",
    "print(p2.born.place.country)\n",
    "print(p2.born.place.city)"
   ]
  }
 ],
 "metadata": {
  "kernelspec": {
   "display_name": "venv1",
   "language": "python",
   "name": "python3"
  },
  "language_info": {
   "codemirror_mode": {
    "name": "ipython",
    "version": 3
   },
   "file_extension": ".py",
   "mimetype": "text/x-python",
   "name": "python",
   "nbconvert_exporter": "python",
   "pygments_lexer": "ipython3",
   "version": "3.10.14"
  }
 },
 "nbformat": 4,
 "nbformat_minor": 2
}
