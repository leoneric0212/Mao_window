{
 "cells": [
  {
   "cell_type": "code",
   "execution_count": 3,
   "metadata": {},
   "outputs": [
    {
     "name": "stdout",
     "output_type": "stream",
     "text": [
      "id=100 first_name='John' last_name='Smith' age=42\n",
      "<class 'str'>\n"
     ]
    }
   ],
   "source": [
    "#用Field裡面的alias功能更改key值\n",
    "from pydantic import BaseModel,Field  \n",
    "#幾乎每個實體都有id欄位\n",
    "data='''{\n",
    "    \"id\":100,               \n",
    "    \"First Name\":\"John\",\n",
    "    \"LASTNAME\":\"Smith\",\n",
    "    \"age in years\":42\n",
    "}\n",
    "'''\n",
    "class Person(BaseModel):\n",
    "    id:int=Field(alias=\"id\")\n",
    "    first_name:str=Field(alias=\"First Name\")\n",
    "    last_name:str=Field(alias=\"LASTNAME\")\n",
    "    age:int|None =Field(alias=\"age in years\",default=None)\n",
    "\n",
    "p1=Person.model_validate_json(data)\n",
    "print(p1)\n",
    "print(type(data))"
   ]
  },
  {
   "cell_type": "code",
   "execution_count": 20,
   "metadata": {},
   "outputs": [
    {
     "name": "stdout",
     "output_type": "stream",
     "text": [
      "first_name='Arthur' last_name='Clarke' born=born(place=place(country='Lunar Colony', city='Central City'), date='2001-01-01')\n",
      "Lunar Colony\n",
      "Central City\n"
     ]
    }
   ],
   "source": [
    "data:dict = {\n",
    "    \"FirstName\": \"Arthur\",\n",
    "    \"LastName\": \"Clarke\",\n",
    "    \"born\":{\n",
    "        \"place\":{\n",
    "            \"country\":\"Lunar Colony\",\n",
    "            \"city\": \"Central City\"\n",
    "        },\n",
    "        \"date\":\"2001-01-01\"\n",
    "    }\n",
    "}\n",
    "\n",
    "\n",
    "class place(BaseModel):\n",
    "    country:str\n",
    "    city:str\n",
    "\n",
    "class born(BaseModel):\n",
    "    place:place\n",
    "    date:str\n",
    "\n",
    "class Person(BaseModel):\n",
    "    first_name:str=Field(alias=\"FirstName\")\n",
    "    last_name:str=Field(alias=\"LastName\")\n",
    "    born:born\n",
    "    \n",
    "p2=Person.model_validate(data)\n",
    "print(p2)\n",
    "print(p2.born.place.country)\n",
    "print(p2.born.place.city)"
   ]
  },
  {
   "cell_type": "code",
   "execution_count": 17,
   "metadata": {},
   "outputs": [
    {
     "name": "stdout",
     "output_type": "stream",
     "text": [
      "<class '__main__.Person'>\n",
      "{'name': 'Alice', 'age': 30, 'address': {'street': '123 Main St', 'city': 'Springfield', 'zipcode': 12345}, 'projects': [{'name': 'Project A', 'status': 'completed'}, {'name': 'Project B', 'status': 'ongoing'}]}\n",
      "<class 'dict'>\n"
     ]
    }
   ],
   "source": [
    "from pydantic import BaseModel\n",
    "with open (\"data.json\") as data:\n",
    "    data=data.read()\n",
    "class Status(BaseModel):\n",
    "    name:str\n",
    "    status:str\n",
    "\n",
    "class Projects(BaseModel):\n",
    "    projects:list[Status]\n",
    "\n",
    "class Address(BaseModel):\n",
    "    street:str\n",
    "    city:str\n",
    "    zipcode:int\n",
    "\n",
    "class Person(BaseModel):\n",
    "    name:str\n",
    "    age:int\n",
    "    address:Address\n",
    "    projects:list[Status]\n",
    "\n",
    "p1=Person.model_validate_json(data)\n",
    "print(type(p1))\n",
    "dict_p1:dict=p1.model_dump()\n",
    "print(dict_p1)\n",
    "print(type(dict_p1))\n"
   ]
  },
  {
   "cell_type": "code",
   "execution_count": 10,
   "metadata": {},
   "outputs": [
    {
     "name": "stdout",
     "output_type": "stream",
     "text": [
      "{\n",
      "    \"name\": \"Alice\",\n",
      "    \"age\": 30,\n",
      "    \"address\": {\n",
      "        \"street\": \"123 Main St\",\n",
      "        \"city\": \"Springfield\",\n",
      "        \"zipcode\": \"12345\"\n",
      "    },\n",
      "    \"projects\": [\n",
      "        {\n",
      "            \"name\": \"Project A\",\n",
      "            \"status\": \"completed\"\n",
      "        },\n",
      "        {\n",
      "            \"name\": \"Project B\",\n",
      "            \"status\": \"ongoing\"\n",
      "        }\n",
      "    ]\n",
      "}\n"
     ]
    }
   ],
   "source": [
    "with open (\"data.json\") as data:\n",
    "    data=data.read()\n",
    "print(data)"
   ]
  }
 ],
 "metadata": {
  "kernelspec": {
   "display_name": "venv1",
   "language": "python",
   "name": "python3"
  },
  "language_info": {
   "codemirror_mode": {
    "name": "ipython",
    "version": 3
   },
   "file_extension": ".py",
   "mimetype": "text/x-python",
   "name": "python",
   "nbconvert_exporter": "python",
   "pygments_lexer": "ipython3",
   "version": "3.10.14"
  }
 },
 "nbformat": 4,
 "nbformat_minor": 2
}
