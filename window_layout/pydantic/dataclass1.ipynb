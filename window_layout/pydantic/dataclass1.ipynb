{
 "cells": [
  {
   "cell_type": "code",
   "execution_count": 16,
   "metadata": {},
   "outputs": [
    {
     "name": "stdout",
     "output_type": "stream",
     "text": [
      "毛\n",
      "我的姓名毛\n",
      "我的年齡60\n",
      "\n"
     ]
    }
   ],
   "source": [
    "class Person():\n",
    "    def __init__(self,name:str,age:int):\n",
    "        self.__name=name\n",
    "        self.age=age\n",
    "\n",
    "    def __repr__(self):\n",
    "        message=''\n",
    "        message+=f\"我的姓名{self.name}\\n\"\n",
    "        message+=f\"我的年齡{self.age}\\n\"\n",
    "        return message\n",
    "    \n",
    "    @property\n",
    "    def name(self)->str:\n",
    "        return self.__name\n",
    "\n",
    "p1=Person(age=60,name='毛')\n",
    "print(p1.name)\n",
    "print(p1)"
   ]
  },
  {
   "cell_type": "code",
   "execution_count": 30,
   "metadata": {},
   "outputs": [
    {
     "name": "stdout",
     "output_type": "stream",
     "text": [
      "及格\n",
      "不及格\n"
     ]
    }
   ],
   "source": [
    "class Student(Person):\n",
    "    @classmethod        #跟下面功能相同，只是另一種方法建立實體\n",
    "    def get__student(cls,name:str,age:int,scores:int):\n",
    "        return Student(n=name,a=age,scores=scores)\n",
    "    \n",
    "    def __init__(self,n:str,a:int,scores:int):\n",
    "        super().__init__(n,a)\n",
    "        self.sco=scores\n",
    "    def get__level(self)->str:\n",
    "        if self.sco>=60:\n",
    "            return \"及格\"\n",
    "        else:\n",
    "            return \"不及格\"\n",
    "s1:Student=Student(\"LEON\",70,99)\n",
    "print(s1.get__level())\n",
    "\n",
    "#透過classmethod建立實體\n",
    "s2=Student.get__student(\"Sherry\",60,59)\n",
    "print(s2.get__level())"
   ]
  }
 ],
 "metadata": {
  "kernelspec": {
   "display_name": "Python 3",
   "language": "python",
   "name": "python3"
  },
  "language_info": {
   "codemirror_mode": {
    "name": "ipython",
    "version": 3
   },
   "file_extension": ".py",
   "mimetype": "text/x-python",
   "name": "python",
   "nbconvert_exporter": "python",
   "pygments_lexer": "ipython3",
   "version": "3.12.3"
  }
 },
 "nbformat": 4,
 "nbformat_minor": 2
}
