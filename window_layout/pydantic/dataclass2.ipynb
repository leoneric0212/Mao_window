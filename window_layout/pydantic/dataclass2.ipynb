{
 "cells": [
  {
   "cell_type": "code",
   "execution_count": 1,
   "metadata": {},
   "outputs": [],
   "source": [
    "#dataclass\n",
    "#可以代替你完成__init__以及__repr__，但是要寫tpye hint(:str)\n",
    "from dataclasses import dataclass\n",
    "\n",
    "@dataclass\n",
    "class InventoryItem:\n",
    "    \"\"\"Class for keeping track of an item in inventory\"\"\"\n",
    "    name:str                    #設定三個attribute\n",
    "    unit_price:float\n",
    "    quantity_in_hand:int=0\n",
    "#以上就完成建立class"
   ]
  },
  {
   "cell_type": "code",
   "execution_count": 3,
   "metadata": {},
   "outputs": [
    {
     "name": "stdout",
     "output_type": "stream",
     "text": [
      "InventoryItem(name='綠茶', unit_price=150.5, quantity_in_hand=0)\n",
      "綠茶\n",
      "150.5\n",
      "0\n"
     ]
    }
   ],
   "source": [
    "Item1=InventoryItem(name=\"綠茶\",unit_price=150.5)\n",
    "print(Item1)\n",
    "print(Item1.name)\n",
    "print(Item1.unit_price)\n",
    "print(Item1.quantity_in_hand)"
   ]
  }
 ],
 "metadata": {
  "kernelspec": {
   "display_name": "venv1",
   "language": "python",
   "name": "python3"
  },
  "language_info": {
   "codemirror_mode": {
    "name": "ipython",
    "version": 3
   },
   "file_extension": ".py",
   "mimetype": "text/x-python",
   "name": "python",
   "nbconvert_exporter": "python",
   "pygments_lexer": "ipython3",
   "version": "3.10.14"
  }
 },
 "nbformat": 4,
 "nbformat_minor": 2
}
