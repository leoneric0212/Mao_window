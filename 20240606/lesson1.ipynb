{
 "cells": [
  {
   "cell_type": "code",
   "execution_count": 3,
   "metadata": {},
   "outputs": [
    {
     "name": "stdout",
     "output_type": "stream",
     "text": [
      "[3, 7, 8, 14, 24] None\n"
     ]
    }
   ],
   "source": [
    "li1=[3,14,7,8,24]\n",
    "li3=li1.sort()\n",
    "print(li1,li3)"
   ]
  },
  {
   "cell_type": "code",
   "execution_count": 6,
   "metadata": {},
   "outputs": [
    {
     "name": "stdout",
     "output_type": "stream",
     "text": [
      "[3, 14, 7, 8, 24] [3, 7, 8, 14, 24]\n"
     ]
    }
   ],
   "source": [
    "li2=[3,14,7,8,24]\n",
    "li4=sorted(li2)\n",
    "print(li2,li4)"
   ]
  },
  {
   "cell_type": "code",
   "execution_count": 1,
   "metadata": {},
   "outputs": [
    {
     "ename": "TypeError",
     "evalue": "list indices must be integers or slices, not str",
     "output_type": "error",
     "traceback": [
      "\u001b[1;31m---------------------------------------------------------------------------\u001b[0m",
      "\u001b[1;31mTypeError\u001b[0m                                 Traceback (most recent call last)",
      "Cell \u001b[1;32mIn[1], line 10\u001b[0m\n\u001b[0;32m      6\u001b[0m     \u001b[38;5;28;01mreturn\u001b[39;00m value[\u001b[38;5;124m'\u001b[39m\u001b[38;5;124mage\u001b[39m\u001b[38;5;124m'\u001b[39m] \u001b[38;5;66;03m#設定使其依照年齡排序\u001b[39;00m\n\u001b[0;32m      8\u001b[0m \u001b[38;5;66;03m# new_people = sorted(people,key=sort_key,reverse=True)\u001b[39;00m\n\u001b[0;32m      9\u001b[0m \u001b[38;5;66;03m# new_people\u001b[39;00m\n\u001b[1;32m---> 10\u001b[0m \u001b[43msort_key\u001b[49m\u001b[43m(\u001b[49m\u001b[43mpeople\u001b[49m\u001b[43m)\u001b[49m\n",
      "Cell \u001b[1;32mIn[1], line 6\u001b[0m, in \u001b[0;36msort_key\u001b[1;34m(value)\u001b[0m\n\u001b[0;32m      5\u001b[0m \u001b[38;5;28;01mdef\u001b[39;00m \u001b[38;5;21msort_key\u001b[39m(value:\u001b[38;5;28mdict\u001b[39m) \u001b[38;5;241m-\u001b[39m\u001b[38;5;241m>\u001b[39m\u001b[38;5;28mint\u001b[39m:\n\u001b[1;32m----> 6\u001b[0m     \u001b[38;5;28;01mreturn\u001b[39;00m \u001b[43mvalue\u001b[49m\u001b[43m[\u001b[49m\u001b[38;5;124;43m'\u001b[39;49m\u001b[38;5;124;43mage\u001b[39;49m\u001b[38;5;124;43m'\u001b[39;49m\u001b[43m]\u001b[49m\n",
      "\u001b[1;31mTypeError\u001b[0m: list indices must be integers or slices, not str"
     ]
    }
   ],
   "source": [
    "people=[{\"name\":\"Leon\",\"age\":32},   \n",
    "        {\"name\":\"Alan\",\"age\":45},\n",
    "        {\"name\":\"Eric\",\"age\":36}]\n",
    "\n",
    "def sort_key(value:dict) ->int:\n",
    "    return value['age'] #設定使其依照年齡排序\n",
    "\n",
    "new_people = sorted(people,key=sort_key,reverse=True)\n",
    "new_people"
   ]
  },
  {
   "cell_type": "code",
   "execution_count": 2,
   "metadata": {},
   "outputs": [
    {
     "data": {
      "text/plain": [
       "[{'name': 'Alan', 'age': 45},\n",
       " {'name': 'Eric', 'age': 36},\n",
       " {'name': 'Leon', 'age': 32}]"
      ]
     },
     "execution_count": 2,
     "metadata": {},
     "output_type": "execute_result"
    }
   ],
   "source": [
    "people=[{\"name\":\"Leon\",\"age\":32},   \n",
    "        {\"name\":\"Alan\",\"age\":45},\n",
    "        {\"name\":\"Eric\",\"age\":36}]\n",
    "\n",
    "\n",
    "#lambda -> 匿名的function\n",
    "#用於簡單製作一個function，下面輸入value，冒號後不是type hint，為使用value做的公式\n",
    "#使用範例如下\n",
    "# 定义一个 lambda 表达式，它接受一个参数 x 并返回 x 的平方\n",
    "# square = lambda x: x ** 2\n",
    "# print(square(5))  # 输出 25\n",
    "\n",
    "new_people = sorted(people,key=lambda value:value['age'],reverse=True)\n",
    "new_people"
   ]
  },
  {
   "cell_type": "code",
   "execution_count": 6,
   "metadata": {},
   "outputs": [
    {
     "data": {
      "text/plain": [
       "59562"
      ]
     },
     "execution_count": 6,
     "metadata": {},
     "output_type": "execute_result"
    }
   ],
   "source": [
    "from datetime import datetime\n",
    "\n",
    "now = datetime.now()\n",
    "timediff=now-datetime(2024,6,6)\n",
    "timediff.seconds"
   ]
  },
  {
   "cell_type": "code",
   "execution_count": 10,
   "metadata": {},
   "outputs": [
    {
     "name": "stdout",
     "output_type": "stream",
     "text": [
      "我是第1個元素\n",
      "我是第2個元素\n",
      "我是第3個元素\n",
      "我是第4個元素\n",
      "我是第5個元素\n"
     ]
    }
   ],
   "source": [
    "#使用map()\n",
    "def numb(x):\n",
    "    return f\"我是第{x}個元素\"\n",
    "numbers=[1,2,3,4,5]\n",
    "str_list:list=list(map(numb,numbers))\n",
    "print(\"\\n\".join(str_list))"
   ]
  },
  {
   "cell_type": "code",
   "execution_count": 26,
   "metadata": {},
   "outputs": [
    {
     "name": "stdout",
     "output_type": "stream",
     "text": [
      "新北市萬里 -aqi:16-狀況：良好-時段-2024-06-06 13:00\n",
      "新北市萬里 -aqi:17-狀況：良好-時段-2024-06-06 12:00\n",
      "新北市萬里 -aqi:17-狀況：良好-時段-2024-06-06 11:00\n",
      "臺中市大甲（日南國小） -aqi:17-狀況：良好-時段-2024-06-06 07:00\n",
      "新竹縣竹東 -aqi:18-狀況：良好-時段-2024-06-06 13:00\n"
     ]
    }
   ],
   "source": [
    "data:list[dict]=[{'site_name': '萬里', 'county': '新北市', 'aqi': 16, 'status': '良好', 'pm25': 1.0, 'date': '2024-06-06 13:00'}, {'site_name': '萬里', 'county': '新北市', 'aqi': 17, 'status': '良好', 'pm25': 0.0, 'date': '2024-06-06 12:00'}, {'site_name': '萬里', 'county': '新北市', 'aqi': 17, 'status': '良好', 'pm25': 1.0, 'date': '2024-06-06 11:00'}, {'site_name': '大甲（日南國小）', 'county': '臺中市', 'aqi': 17, 'status': '良好', 'pm25': 6.0, 'date': '2024-06-06 07:00'}, {'site_name': '竹東', 'county': '新竹縣', 'aqi': 18, 'status': '良好', 'pm25': 1.0, 'date': '2024-06-06 13:00'}] \n",
    "def abc(value:dict) -> str:     #設定資料處理的方法，接收dict回傳str\n",
    "    return f\"{value['county']}{value['site_name']} -aqi:{value['aqi']}-狀況：{value['status']}-時段-{value['date']}\"\n",
    "message_data:list[dict]=list(map(abc,data))     #將data用abc處理，並將回傳的str轉換成list\n",
    "print(\"\\n\".join(message_data))      #將回傳的list增加換行，並列印"
   ]
  }
 ],
 "metadata": {
  "kernelspec": {
   "display_name": "venv1",
   "language": "python",
   "name": "python3"
  },
  "language_info": {
   "codemirror_mode": {
    "name": "ipython",
    "version": 3
   },
   "file_extension": ".py",
   "mimetype": "text/x-python",
   "name": "python",
   "nbconvert_exporter": "python",
   "pygments_lexer": "ipython3",
   "version": "3.10.14"
  }
 },
 "nbformat": 4,
 "nbformat_minor": 2
}
