{
 "cells": [
  {
   "cell_type": "code",
   "execution_count": 22,
   "metadata": {},
   "outputs": [
    {
     "name": "stdout",
     "output_type": "stream",
     "text": [
      "5\n",
      "<class 'list'>\n"
     ]
    }
   ],
   "source": [
    "l1=[2,4,6,8,10]\n",
    "#查元素的數量\n",
    "print(len(l1))\n",
    "\n",
    "#哪一個class建立的實體(資料類型)\n",
    "print(type(l1))"
   ]
  },
  {
   "cell_type": "code",
   "execution_count": 23,
   "metadata": {},
   "outputs": [
    {
     "name": "stdout",
     "output_type": "stream",
     "text": [
      "[2, 4, 6, 8, 10, 12]\n"
     ]
    }
   ],
   "source": [
    "#實體的方法method()\n",
    "l1.append(12)\n",
    "print(l1)"
   ]
  },
  {
   "cell_type": "code",
   "execution_count": 24,
   "metadata": {},
   "outputs": [
    {
     "name": "stdout",
     "output_type": "stream",
     "text": [
      "12\n",
      "[2, 4, 6, 8, 10]\n"
     ]
    }
   ],
   "source": [
    "print(l1.pop())\n",
    "print(l1)"
   ]
  },
  {
   "cell_type": "code",
   "execution_count": 34,
   "metadata": {},
   "outputs": [
    {
     "name": "stdout",
     "output_type": "stream",
     "text": [
      "2\n",
      "4\n",
      "6\n",
      "8\n",
      "10\n"
     ]
    }
   ],
   "source": [
    "for item in l1:\n",
    "    print(item)"
   ]
  },
  {
   "cell_type": "code",
   "execution_count": 33,
   "metadata": {},
   "outputs": [
    {
     "name": "stdout",
     "output_type": "stream",
     "text": [
      "0\n",
      "2\n",
      "---------\n",
      "1\n",
      "4\n",
      "---------\n",
      "2\n",
      "6\n",
      "---------\n",
      "3\n",
      "8\n",
      "---------\n",
      "4\n",
      "10\n",
      "---------\n"
     ]
    }
   ],
   "source": [
    "#使用enumerate列出索引值及數值\n",
    "#enumerate送出的是tuple，是為暫時的值，要另外拆解\n",
    "for index,value in enumerate(l1):\n",
    "    print(index)\n",
    "    print(value)\n",
    "    print(\"---------\")"
   ]
  },
  {
   "cell_type": "code",
   "execution_count": 41,
   "metadata": {},
   "outputs": [
    {
     "name": "stdout",
     "output_type": "stream",
     "text": [
      "2 4 6 8 10 不知名的錯誤：name 'l' is not defined\n"
     ]
    }
   ],
   "source": [
    "#end是引述名稱\n",
    "print(l1[0],end=' ')\n",
    "print(l1[1],end=' ')\n",
    "print(l1[2],end=' ')\n",
    "print(l1[3],end=' ')\n",
    "print(l1[4],end=' ')\n",
    "\n",
    "try:\n",
    "    print(l)\n",
    "except IndexError:\n",
    "    print(\"索引編號超出範圍\")\n",
    "except Exception as e:\n",
    "    print(f\"不知名的錯誤：{e}\")\n"
   ]
  },
  {
   "cell_type": "code",
   "execution_count": 42,
   "metadata": {},
   "outputs": [
    {
     "name": "stdout",
     "output_type": "stream",
     "text": [
      "L\n",
      "e\n",
      "o\n",
      "n\n",
      " \n",
      "M\n",
      "a\n",
      "o\n"
     ]
    }
   ],
   "source": [
    "name:str=\"Leon Mao\"\n",
    "for word in name:\n",
    "    print(word)"
   ]
  },
  {
   "cell_type": "code",
   "execution_count": 43,
   "metadata": {},
   "outputs": [
    {
     "data": {
      "text/plain": [
       "'L'"
      ]
     },
     "execution_count": 43,
     "metadata": {},
     "output_type": "execute_result"
    }
   ],
   "source": [
    "#[index]\n",
    "name[0]"
   ]
  },
  {
   "cell_type": "code",
   "execution_count": 46,
   "metadata": {},
   "outputs": [
    {
     "name": "stdout",
     "output_type": "stream",
     "text": [
      "Leon \n",
      "Leon \n"
     ]
    }
   ],
   "source": [
    "#[slice]\n",
    "print(name[0:5])\n",
    "print(name[:5])"
   ]
  },
  {
   "cell_type": "code",
   "execution_count": 48,
   "metadata": {},
   "outputs": [
    {
     "name": "stdout",
     "output_type": "stream",
     "text": [
      "Ma\n",
      "Mao\n"
     ]
    }
   ],
   "source": [
    "#[slice]\n",
    "print(name[-3:-1])  #-1不取\n",
    "print(name[-3:])    #取最後三個"
   ]
  }
 ],
 "metadata": {
  "kernelspec": {
   "display_name": "venv1",
   "language": "python",
   "name": "python3"
  },
  "language_info": {
   "codemirror_mode": {
    "name": "ipython",
    "version": 3
   },
   "file_extension": ".py",
   "mimetype": "text/x-python",
   "name": "python",
   "nbconvert_exporter": "python",
   "pygments_lexer": "ipython3",
   "version": "3.10.14"
  }
 },
 "nbformat": 4,
 "nbformat_minor": 2
}
