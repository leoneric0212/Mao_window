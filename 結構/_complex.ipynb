{
 "cells": [
  {
   "cell_type": "code",
   "execution_count": 1,
   "metadata": {},
   "outputs": [
    {
     "name": "stdout",
     "output_type": "stream",
     "text": [
      "[['Amy', 99, 70, 50], ['Debby', 80, 65, 100], ['Jenny', 70, 98, 85]]\n"
     ]
    }
   ],
   "source": [
    "students:list[list] = [\n",
    "                        ['Amy',99,70,50],\n",
    "                        ['Debby',80,65,100],\n",
    "                        ['Jenny',70,98,85]\n",
    "                    ]\n",
    "print(students)"
   ]
  }
 ],
 "metadata": {
  "kernelspec": {
   "display_name": "venv1",
   "language": "python",
   "name": "python3"
  },
  "language_info": {
   "codemirror_mode": {
    "name": "ipython",
    "version": 3
   },
   "file_extension": ".py",
   "mimetype": "text/x-python",
   "name": "python",
   "nbconvert_exporter": "python",
   "pygments_lexer": "ipython3",
   "version": "3.10.14"
  }
 },
 "nbformat": 4,
 "nbformat_minor": 2
}
