{
 "cells": [
  {
   "cell_type": "code",
   "execution_count": 2,
   "metadata": {},
   "outputs": [
    {
     "data": {
      "text/html": [
       "\n",
       "        <iframe\n",
       "            width=\"100%\"\n",
       "            height=\"650\"\n",
       "            src=\"http://127.0.0.1:8050/\"\n",
       "            frameborder=\"0\"\n",
       "            allowfullscreen\n",
       "            \n",
       "        ></iframe>\n",
       "        "
      ],
      "text/plain": [
       "<IPython.lib.display.IFrame at 0x1cf54185450>"
      ]
     },
     "metadata": {},
     "output_type": "display_data"
    }
   ],
   "source": [
    "from dash import Dash,html\n",
    "import pandas as pd\n",
    "\n",
    "df = pd.read_csv('https://gist.githubusercontent.com/chriddyp/c78bf172206ce24f77d6363a2d754b59/raw/c353e8ef842413cae56ae3920b8fd78468aa4cb2/usa-agricultural-exports-2011.csv')\n",
    "\n",
    "#自製function設定table\n",
    "def generate_table(dataframe,max_rows=10):\n",
    "    return html.Table([\n",
    "        html.Thead( #設定每欄位名稱\n",
    "            html.Tr([html.Th(col,style={\n",
    "                'textAlign':'center',\n",
    "                'color':'#edae49'\n",
    "            }) for col in dataframe.columns])\n",
    "        ),\n",
    "        html.Tbody([\n",
    "            html.Tr(\n",
    "                [html.Td(dataframe.iloc[i][col],style={\n",
    "                'textAlign':'center',\n",
    "                'color':'#edae49'\n",
    "            } ) for col in dataframe.columns]   #設計列\n",
    "            ) for i in range(min(len(dataframe),max_rows)) #i會回傳進Tr內給Td\n",
    "              \n",
    "        ])\n",
    "    ])\n",
    "\n",
    "app=Dash(__name__)\n",
    "app.layout=html.Div([\n",
    "    html.H4(children='US Agriculture Exports (2011)',style={\n",
    "                'textAlign':'center',\n",
    "                'color':'#edae49'\n",
    "            }),\n",
    "    generate_table(df)\n",
    "])\n",
    "app.run(debug=True)"
   ]
  }
 ],
 "metadata": {
  "kernelspec": {
   "display_name": "venv2",
   "language": "python",
   "name": "python3"
  },
  "language_info": {
   "codemirror_mode": {
    "name": "ipython",
    "version": 3
   },
   "file_extension": ".py",
   "mimetype": "text/x-python",
   "name": "python",
   "nbconvert_exporter": "python",
   "pygments_lexer": "ipython3",
   "version": "3.11.9"
  }
 },
 "nbformat": 4,
 "nbformat_minor": 2
}
