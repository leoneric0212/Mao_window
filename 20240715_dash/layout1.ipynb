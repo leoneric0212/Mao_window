{
 "cells": [
  {
   "cell_type": "code",
   "execution_count": null,
   "metadata": {},
   "outputs": [],
   "source": [
    "from dash import Dash,html,dcc\n",
    "import pandas as pd\n",
    "import plotly.express as px\n",
    "\n",
    "app=Dash(__name__)\n",
    "#colors是dict\n",
    "colors={    \n",
    "    'background':'#C87',\n",
    "    'text':'#3AB'\n",
    "}\n",
    "\n",
    "df = pd.DataFrame({\n",
    "    \"Fruit\": [\"Apples\", \"Oranges\", \"Bananas\", \"Apples\", \"Oranges\", \"Bananas\"],\n",
    "    \"Amount\": [4, 1, 2, 2, 4, 5],\n",
    "    \"City\": [\"SF\", \"SF\", \"SF\", \"Montreal\", \"Montreal\", \"Montreal\"]\n",
    "})\n",
    "fig = px.bar(df, x=\"Fruit\", y=\"Amount\", color=\"City\", barmode=\"group\")\n",
    "fig.update_layout(\n",
    "    plot_bgcolor = colors['background'],\n",
    "    paper_bgcolor = colors['background'],\n",
    "    font_color = colors['text']\n",
    ")\n",
    "\n",
    "app.layout=html.Div(children=[\n",
    "    html.H1(children=\"Hello! PLOOOTLYYYYY\",\n",
    "            style={\n",
    "                'textAlign':'center',\n",
    "                'color':colors['text']\n",
    "            }),\n",
    "    html.Div(children=\"Dash:A web application framework for your data.\",style={\n",
    "                    'textAlign':'center',\n",
    "                    'color':'#d53'\n",
    "    }),\n",
    "    dcc.Graph(\n",
    "        id='example-graph',\n",
    "        figure=fig\n",
    "    )\n",
    "])\n",
    "\n",
    "app.run(debug=True)"
   ]
  }
 ],
 "metadata": {
  "kernelspec": {
   "display_name": "venv2",
   "language": "python",
   "name": "python3"
  },
  "language_info": {
   "codemirror_mode": {
    "name": "ipython",
    "version": 3
   },
   "file_extension": ".py",
   "mimetype": "text/x-python",
   "name": "python",
   "nbconvert_exporter": "python",
   "pygments_lexer": "ipython3",
   "version": "3.11.9"
  }
 },
 "nbformat": 4,
 "nbformat_minor": 2
}
