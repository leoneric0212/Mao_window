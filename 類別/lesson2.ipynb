{
 "cells": [
  {
   "cell_type": "code",
   "execution_count": 81,
   "metadata": {},
   "outputs": [
    {
     "name": "stdout",
     "output_type": "stream",
     "text": [
      "p1.name=毛\n",
      "p2.name=Leon\n"
     ]
    }
   ],
   "source": [
    "class Person():\n",
    "    def __init__(self,n:str):\n",
    "        self.name=n\n",
    "    def __repr__(self):\n",
    "        return f\"我是Person的實體,我的名字是{self.name}\"\n",
    "p1:Person=Person(\"毛\")\n",
    "print(f\"p1.name={p1.name}\")\n",
    "p2:Person=Person(\"Leon\")\n",
    "print(f\"p2.name={p2.name}\")\n"
   ]
  },
  {
   "cell_type": "code",
   "execution_count": 78,
   "metadata": {},
   "outputs": [],
   "source": [
    "class Student(Person):\n",
    "    def __init__(self,name:str,chinese:int,english:int,math:int):\n",
    "        super().__init__(n=name)\n",
    "        self.__chinese=chinese\n",
    "        self.__english=english\n",
    "        self.__math=math\n",
    "\n",
    "    @property\n",
    "    def chinese(self):\n",
    "        return self.__chinese\n",
    "    @property\n",
    "    def english(self):\n",
    "        return self.__english\n",
    "    @property\n",
    "    def math(self):\n",
    "        return self.__math\n",
    "    @property\n",
    "    def scores(self):\n",
    "        return self.__chinese+self.__english+self.math\n",
    "    def average(self):\n",
    "        return self.scores/3\n",
    "    def __repr__(self):\n",
    "        message=f\"我是Student的實體,我的名字是{self.name}\\n\"\n",
    "        message+=f\"國文分數:{self.chinese}\\n\"\n",
    "        message+=f\"英文分數:{self.english}\\n\"\n",
    "        message+=f\"數學分數:{self.math}\\n\"\n",
    "        return message\n",
    "s1=Student(\"毛栩櫟\",chinese=97,english=98,math=99)\n",
    "s2=Student(\"Leon Mao\",math=59,english=58,chinese=57)"
   ]
  },
  {
   "cell_type": "code",
   "execution_count": 64,
   "metadata": {},
   "outputs": [
    {
     "name": "stdout",
     "output_type": "stream",
     "text": [
      "我是Student的實體,我的名字是毛栩櫟\n",
      "國文分數:97\n",
      "英文分數:98\n",
      "數學分數:99\n",
      "\n"
     ]
    }
   ],
   "source": [
    "print(p1)\n",
    "print(s1)\n",
    "\n",
    "print(p2)\n",
    "print(s2)"
   ]
  },
  {
   "cell_type": "code",
   "execution_count": 79,
   "metadata": {},
   "outputs": [
    {
     "name": "stdout",
     "output_type": "stream",
     "text": [
      "我是Student的實體,我的名字是Leon Mao\n",
      "國文分數:57\n",
      "英文分數:58\n",
      "數學分數:59\n",
      "\n",
      "總分為174\n",
      "平均為58.0\n"
     ]
    }
   ],
   "source": [
    "print(s2)\n",
    "print(f\"總分為{s2.scores}\")\n",
    "print(f\"平均為{s2.average()}\")"
   ]
  }
 ],
 "metadata": {
  "kernelspec": {
   "display_name": "venv1",
   "language": "python",
   "name": "python3"
  },
  "language_info": {
   "codemirror_mode": {
    "name": "ipython",
    "version": 3
   },
   "file_extension": ".py",
   "mimetype": "text/x-python",
   "name": "python",
   "nbconvert_exporter": "python",
   "pygments_lexer": "ipython3",
   "version": "3.10.14"
  }
 },
 "nbformat": 4,
 "nbformat_minor": 2
}
