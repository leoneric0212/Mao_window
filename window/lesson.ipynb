{
 "cells": [
  {
   "cell_type": "code",
   "execution_count": 4,
   "metadata": {},
   "outputs": [
    {
     "data": {
      "text/plain": [
       "True"
      ]
     },
     "execution_count": 4,
     "metadata": {},
     "output_type": "execute_result"
    }
   ],
   "source": [
    "file = open('names.txt',encoding='utf-8') #開檔案\n",
    "file.close()    #關檔案\n",
    "file.closed     #確認檔案為關閉\n"
   ]
  },
  {
   "cell_type": "code",
   "execution_count": 5,
   "metadata": {},
   "outputs": [
    {
     "data": {
      "text/plain": [
       "True"
      ]
     },
     "execution_count": 5,
     "metadata": {},
     "output_type": "execute_result"
    }
   ],
   "source": [
    "with open('names.txt',encoding='utf-8') as file:    #開檔案，並且在跳出來後自動關閉\n",
    "    pass        \n",
    "file.closed     #確認檔案為關閉\n"
   ]
  },
  {
   "cell_type": "code",
   "execution_count": null,
   "metadata": {},
   "outputs": [],
   "source": [
    "with open('names.txt',encoding='utf-8') as file:    \n",
    "    content:str=file.read()      \n",
    "print(content)"
   ]
  },
  {
   "cell_type": "code",
   "execution_count": 12,
   "metadata": {},
   "outputs": [
    {
     "data": {
      "text/plain": [
       "299"
      ]
     },
     "execution_count": 12,
     "metadata": {},
     "output_type": "execute_result"
    }
   ],
   "source": [
    "with open('names.txt',encoding='utf-8') as file:    \n",
    "    content:str=file.read()      \n",
    "names:list[str]=content.split()\n",
    "len(names)"
   ]
  },
  {
   "cell_type": "code",
   "execution_count": 3,
   "metadata": {},
   "outputs": [
    {
     "name": "stdout",
     "output_type": "stream",
     "text": [
      "one\n",
      "two\n",
      "three\n",
      "1\n",
      "2\n",
      "3\n",
      "one\n",
      "1\n",
      "-----\n",
      "two\n",
      "2\n",
      "-----\n",
      "three\n",
      "3\n",
      "-----\n"
     ]
    }
   ],
   "source": [
    "d1:dict =  {\"one\":1,\n",
    "            \"two\":2,\n",
    "            \"three\":3}\n",
    "#keys(),value(),items()\n",
    "for k in d1.keys():\n",
    "    print(k)\t\t\t\t\t#one two three\n",
    "for v in d1.values():\t\t#1 2 3\n",
    "    print(v)\n",
    "for k,v in d1.items():\t#one 1 two 2 three 3\n",
    "    print(k)\n",
    "    print(v)\n",
    "    print('-----')"
   ]
  }
 ],
 "metadata": {
  "kernelspec": {
   "display_name": "venv1",
   "language": "python",
   "name": "python3"
  },
  "language_info": {
   "codemirror_mode": {
    "name": "ipython",
    "version": 3
   },
   "file_extension": ".py",
   "mimetype": "text/x-python",
   "name": "python",
   "nbconvert_exporter": "python",
   "pygments_lexer": "ipython3",
   "version": "3.12.3"
  }
 },
 "nbformat": 4,
 "nbformat_minor": 2
}
